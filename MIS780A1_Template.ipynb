{
  "cells": [
    {
      "cell_type": "markdown",
      "metadata": {
        "id": "UP2Th8B0LLey"
      },
      "source": [
        "## MIS780 Advanced AI For Business - Assignment 1 - T2 2023"
      ]
    },
    {
      "cell_type": "markdown",
      "metadata": {
        "id": "m9ZYjLxXs2Vg"
      },
      "source": [
        "**Student Name:** _enter your full name here_\n",
        "\n",
        "**Student ID:** _enter your student ID here_"
      ]
    },
    {
      "cell_type": "markdown",
      "metadata": {
        "id": "AUCdWjQ8s2Vg"
      },
      "source": [
        "## Table of Content\n",
        "\n",
        "1. [Executive Summary](#cell_executivesummary)\n",
        "\n",
        "\n",
        "2. [Data Exploration](#cell_exploration)\n",
        "\n",
        "\n",
        "3. [Sentiment Analysis](#cell_sentiment)\n",
        "\n",
        "\n",
        "4. [Topic Modeling](#cell_TopicModeling)\n",
        "\n",
        "\n",
        "5. [Practical Implication](#cell_PracticalImplication)\n"
      ]
    },
    {
      "cell_type": "markdown",
      "metadata": {
        "id": "THnW6RPgLLf6"
      },
      "source": [
        "<a id = \"cell_executivesummary\"></a>\n",
        "### 1. Executive Summary\n",
        ""
      ]
    },
    {
      "cell_type": "markdown",
      "metadata": {
        "id": "eA1xUmtNs2Vh"
      },
      "source": [
        "#### NOTE: all the instructions and hints given in this template should be removed from your final submission. (Including this line)\n",
        "**Aim:** To clearly articulate your understanding of the bussiness problem to management.\n",
        "\n",
        "_Define your problem in business term. What is the aim of this probject? What benefit will it generate to the business and its custmers?_\n",
        "\n",
        "_Present your proposed approaches._\n",
        "\n",
        "_Present your major findings and explain how they help to address the business problem. Cross-reference with other report sections for support. Do not include chart or tables in this section._"
      ]
    },
    {
      "cell_type": "markdown",
      "metadata": {
        "id": "Eql8BBP8s2Vh"
      },
      "source": [
        "<a id = \"cell_exploration\"></a>\n",
        "### 2. Data Exploration\n",
        "\n",
        "#### NOTE: You can create multiple Markdown and Code cells to present your work.\n",
        "**Aim:** To demonstrate your understanding of data and report any insights emerging from data analysis\n",
        "\n",
        "_Process and explore the characteristics of the attributes the provided data set._\n",
        "\n",
        "_Use table or figure to support answering questions (A) and (B)_\n"
      ]
    },
    {
      "cell_type": "code",
      "execution_count": null,
      "metadata": {
        "id": "u2Oqj0Gos2Vi"
      },
      "outputs": [],
      "source": [
        "#Code"
      ]
    },
    {
      "cell_type": "markdown",
      "metadata": {
        "id": "YYdoTx6qs2Vi"
      },
      "source": []
    },
    {
      "cell_type": "code",
      "execution_count": null,
      "metadata": {
        "id": "o-DQYtYws2Vj"
      },
      "outputs": [],
      "source": []
    },
    {
      "cell_type": "markdown",
      "metadata": {
        "id": "OTQmyIAFs2Vj"
      },
      "source": [
        "<a id = \"cell_sentiment\"></a>\n",
        "### 3. Sentiment Analysis\n",
        "\n",
        "**Aim:** To demonstrate your understanding in sentiment analysis.\n",
        "\n",
        " **Machine Learning Based Approach**\n",
        "\n",
        "_Use machine learning based sentiment analysis to answer question (C)._"
      ]
    },
    {
      "cell_type": "code",
      "execution_count": null,
      "metadata": {
        "id": "G7M65iaJs2Vk"
      },
      "outputs": [],
      "source": [
        "#Code cell\n"
      ]
    },
    {
      "cell_type": "markdown",
      "source": [
        "**Lexicon Based Approach**\n",
        "\n",
        "_Use lexicon based sentiment analysis to answer question (D)._"
      ],
      "metadata": {
        "id": "pJ0jjGv4cImQ"
      }
    },
    {
      "cell_type": "code",
      "source": [],
      "metadata": {
        "id": "_vL3cfwMc9Wa"
      },
      "execution_count": null,
      "outputs": []
    },
    {
      "cell_type": "markdown",
      "metadata": {
        "id": "oDGk9oyJs2Vk"
      },
      "source": [
        "<a id = \"cell_TopicModeling\"></a>\n",
        "### 4. Topic Modeling\n",
        "\n",
        "**Aim:** To demonstrate your understanding in topic modeling.\n",
        "\n",
        "_Use text-processing techniques to process and prepare textual data for topic modelling._\n",
        "\n",
        "_Use LDA to explore topics discussed in the text reviews._\n",
        "\n",
        "_Carry out experiments and demonstrate how an appropriate topic number is determined for your model._\n",
        "\n",
        "_Interpret the discovered topics and answer question (E)._\n"
      ]
    },
    {
      "cell_type": "code",
      "execution_count": null,
      "metadata": {
        "id": "7ctovnrAs2Vk"
      },
      "outputs": [],
      "source": [
        "#Code cell"
      ]
    },
    {
      "cell_type": "markdown",
      "metadata": {
        "id": "QH1HJ3kUs2Vl"
      },
      "source": [
        "<a id = \"cell_Practicalimplication\"></a>\n",
        "### 5. Practical Implication\n",
        "\n",
        "**Aim:** To apply analytics result in addressing practical business problems.\n",
        "\n"
      ]
    },
    {
      "cell_type": "markdown",
      "metadata": {
        "id": "XMZjXL_Ws2Vl"
      },
      "source": [
        "### References:\n",
        "\n",
        "_List references to other materials that you used for this assignment here_"
      ]
    }
  ],
  "metadata": {
    "colab": {
      "provenance": []
    },
    "kernelspec": {
      "display_name": "Python 3",
      "language": "python",
      "name": "python3"
    },
    "language_info": {
      "codemirror_mode": {
        "name": "ipython",
        "version": 3
      },
      "file_extension": ".py",
      "mimetype": "text/x-python",
      "name": "python",
      "nbconvert_exporter": "python",
      "pygments_lexer": "ipython3",
      "version": "3.8.5"
    }
  },
  "nbformat": 4,
  "nbformat_minor": 0
}